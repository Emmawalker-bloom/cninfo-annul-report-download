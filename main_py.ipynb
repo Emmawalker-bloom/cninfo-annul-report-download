{
  "cells": [
    {
      "cell_type": "markdown",
      "metadata": {
        "id": "view-in-github",
        "colab_type": "text"
      },
      "source": [
        "<a href=\"https://colab.research.google.com/github/Emmawalker-bloom/cninfo-annul-report-download/blob/main/main_py.ipynb\" target=\"_parent\"><img src=\"https://colab.research.google.com/assets/colab-badge.svg\" alt=\"Open In Colab\"/></a>"
      ]
    },
    {
      "cell_type": "code",
      "source": [
        "import requests\n",
        "import os\n",
        "import time\n",
        "import argparse\n",
        "from tqdm import tqdm\n",
        "from concurrent.futures import ThreadPoolExecutor, as_completed\n",
        "import re\n",
        "\n",
        "# 全局请求头，模拟浏览器访问\n",
        "HEADERS = {\n",
        "    'User-Agent': 'Mozilla/5.0 (Windows NT 10.0; Win64; x64) AppleWebKit/537.36 (KHTML, like Gecko) Chrome/91.0.4472.124 Safari/537.36',\n",
        "    'Referer': 'http://www.cninfo.com.cn/',\n",
        "}\n",
        "\n",
        "def fetch_reports_for_keyword(session, stock_code, plate, keyword, year):\n",
        "    \"\"\"为单个年份和单个关键词获取报告\"\"\"\n",
        "    stock_param = f\"{stock_code},gssh0{stock_code}\" if plate == 'sh' else f\"{stock_code},gssz0{stock_code}\"\n",
        "\n",
        "    # 构建请求参数\n",
        "    params = {\n",
        "        'stock': stock_param,\n",
        "        'tabName': 'fulltext',\n",
        "        'pageSize': '50',  # 增加每页大小以确保获取所有相关报告\n",
        "        'pageNum': '1',\n",
        "        'column': f'sse{plate}',\n",
        "        'plate': plate,\n",
        "        'seDate': f'{year}-01-01~{year}-12-31',\n",
        "        'searchkey': keyword,\n",
        "        'secid': '',\n",
        "        'sortName': 'announcementTime',\n",
        "        'sortType': 'desc',\n",
        "        'isHLtitle': 'true',\n",
        "    }\n",
        "\n",
        "    print(f\"DEBUG: Requesting reports for stock={stock_param}, year={year}, keyword='{keyword}'\") # Debug print\n",
        "    try:\n",
        "        # 发送POST请求\n",
        "        response = session.post('http://www.cninfo.com.cn/new/hisAnnouncement/query', data=params, headers=HEADERS, timeout=10)\n",
        "        response.raise_for_status()\n",
        "        data = response.json()\n",
        "        print(f\"DEBUG: Received response data for year={year}, keyword='{keyword}': {data}\") # Debug print\n",
        "        if 'announcements' in data and data['announcements']:\n",
        "            return data['announcements']\n",
        "    except requests.exceptions.RequestException as e:\n",
        "        print(f\"请求失败: 年份={year}, 关键词='{keyword}', 错误: {e}\")\n",
        "    return []\n",
        "\n",
        "def fetch_all_reports(stock_code, start_year, end_year):\n",
        "    \"\"\"获取指定股票在年份范围内的所有财报\"\"\"\n",
        "    print(f\"开始查询 {stock_code} 从 {start_year} 年到 {end_year} 年的财报...\")\n",
        "\n",
        "    # 判断股票属于上海还是深圳市场\n",
        "    plate = 'sh' if stock_code.startswith('6') else 'sz'\n",
        "    report_keywords = ['年度报告'] # Only search for annual reports\n",
        "\n",
        "    all_announcements = []\n",
        "    tasks = []\n",
        "\n",
        "    # Use a single session for all requests within the thread pool\n",
        "    with requests.Session() as session:\n",
        "        # Use thread pool for concurrent requests\n",
        "        with ThreadPoolExecutor(max_workers=10) as executor:\n",
        "            for year in range(end_year, start_year - 1, -1):\n",
        "                for keyword in report_keywords:\n",
        "                    tasks.append(executor.submit(fetch_reports_for_keyword, session, stock_code, plate, keyword, year))\n",
        "\n",
        "            for future in tqdm(as_completed(tasks), total=len(tasks), desc=\"查询进度\"):\n",
        "                result = future.result()\n",
        "                if result:\n",
        "                    all_announcements.extend(result)\n",
        "\n",
        "    # 去重和筛选\n",
        "    unique_announcements = {}\n",
        "    # More specific exclusion keywords\n",
        "    excluded_keywords = ['半年度报告', '季度报告', '持续督导', '受托管理', '问询函', '回复', '摘要', '英文版']\n",
        "\n",
        "    for ann in all_announcements:\n",
        "        title = ann['announcementTitle']\n",
        "        # Check if the title contains \"年度报告\" and does not contain the specific excluded keywords\n",
        "        if '年度报告' in title and not any(keyword in title for keyword in excluded_keywords):\n",
        "             unique_announcements[ann['announcementId']] = ann\n",
        "\n",
        "\n",
        "    # 按时间降序排序\n",
        "    sorted_announcements = sorted(unique_announcements.values(), key=lambda x: x['announcementTime'], reverse=True)\n",
        "\n",
        "    return sorted_announcements\n",
        "\n",
        "def download_file(report, download_dir):\n",
        "    \"\"\"下载单个报告文件\"\"\"\n",
        "    pdf_url = f\"http://static.cninfo.com.cn/{report['adjunctUrl']}\"\n",
        "    date = time.strftime('%Y-%m-%d', time.localtime(report['announcementTime'] / 1000))\n",
        "    # 清理文件名中的非法字符\n",
        "    clean_title = report['announcementTitle'].replace('*', '').replace(':', '：').replace('?', '？').replace('/', ' ').replace('\\\\', ' ')\n",
        "    filename = f\"{date}_{clean_title}.pdf\"\n",
        "    filepath = os.path.join(download_dir, filename)\n",
        "\n",
        "    try:\n",
        "        response = requests.get(pdf_url, headers=HEADERS, stream=True, timeout=30)\n",
        "        response.raise_for_status()\n",
        "\n",
        "        total_size = int(response.headers.get('content-length', 0))\n",
        "\n",
        "        # 使用tqdm显示下载进度条\n",
        "        with open(filepath, 'wb') as f, tqdm(\n",
        "            desc=filename,\n",
        "            total=total_size,\n",
        "            unit='iB',\n",
        "            unit_scale=True,\n",
        "            unit_divisor=1024,\n",
        "        ) as bar:\n",
        "            for data in response.iter_content(chunk_size=1024):\n",
        "                size = f.write(data)\n",
        "                bar.update(size)\n",
        "        return f\"下载成功: {filename}\"\n",
        "    except requests.exceptions.RequestException as e:\n",
        "        return f\"下载失败: {filename}, 错误: {e}\"\n",
        "\n",
        "def main():\n",
        "    # --- 获取用户输入 ---\n",
        "    while True:\n",
        "        code = input(\"请输入需要查询的公司代码 (例如: 000001): \")\n",
        "        if code:\n",
        "            break\n",
        "        else:\n",
        "            print(\"公司代码不能为空，请重新输入。\")\n",
        "\n",
        "    while True:\n",
        "        try:\n",
        "            start_year = int(input(\"请输入查询的开始年份 (例如: 2020): \"))\n",
        "            end_year = int(input(\"请输入查询的结束年份 (例如: 2024): \"))\n",
        "            if 1990 <= start_year <= end_year <= time.localtime().tm_year:\n",
        "                break\n",
        "            else:\n",
        "                print(\"年份范围无效，请重新输入。\")\n",
        "        except ValueError:\n",
        "            print(\"输入无效，请输入有效的年份数字。\")\n",
        "\n",
        "    # --- 获取报告列表 ---\n",
        "    reports = fetch_all_reports(code, start_year, end_year)\n",
        "\n",
        "    if not reports:\n",
        "        print(\"未找到任何相关报告。\")\n",
        "        return\n",
        "\n",
        "    # --- 展示并选择报告 ---\n",
        "    print(\"\\n找到以下报告：\")\n",
        "    for i, report in enumerate(reports):\n",
        "        date = time.strftime('%Y-%m-%d', time.localtime(report['announcementTime'] / 1000))\n",
        "        print(f\"{i + 1:2d}: {date} - {report['announcementTitle']}\")\n",
        "\n",
        "    # --- 用户选择下载项 ---\n",
        "    while True:\n",
        "        try:\n",
        "            choice = input(\"\\n请输入要下载的报告编号（用逗号隔开，或输入'all'下载全部），按回车键取消：\\n> \")\n",
        "            if not choice:\n",
        "                print(\"操作已取消。\")\n",
        "                return\n",
        "\n",
        "            selected_indices = []\n",
        "            if choice.lower() == 'all':\n",
        "                selected_indices = list(range(len(reports)))\n",
        "                break\n",
        "\n",
        "            parts = choice.replace(' ', '').split(',')\n",
        "            for part in parts:\n",
        "                if '-' in part:\n",
        "                    start, end = map(int, part.split('-'))\n",
        "                    selected_indices.extend(range(start - 1, end))\n",
        "                else:\n",
        "                    selected_indices.append(int(part) - 1)\n",
        "\n",
        "            # 验证输入是否有效\n",
        "            if all(0 <= i < len(reports) for i in selected_indices):\n",
        "                break\n",
        "            else:\n",
        "                print(\"输入无效，包含超出范围的编号。请重试。\")\n",
        "        except ValueError:\n",
        "            print(\"输入格式错误，请输入数字、逗号或连字符。请重试。\")\n",
        "\n",
        "    # --- 确认下载目录 ---\n",
        "    download_dir = os.path.join(\"downloads\", code)\n",
        "    print(f\"\\n默认下载目录为: {os.path.abspath(download_dir)}\")\n",
        "    while True:\n",
        "        confirm = input(\"是否使用此目录下载文件？ (y/n): \").lower()\n",
        "        if confirm in ['y', 'yes']:\n",
        "            os.makedirs(download_dir, exist_ok=True)\n",
        "            print(f\"文件将保存到: {os.path.abspath(download_dir)}\")\n",
        "            break\n",
        "        elif confirm in ['n', 'no']:\n",
        "            print(\"下载已取消。\")\n",
        "            return\n",
        "        else:\n",
        "            print(\"输入无效，请输入 'y' 或 'n'。\")\n",
        "\n",
        "\n",
        "    # --- 执行下载 ---\n",
        "    selected_reports = [reports[i] for i in sorted(list(set(selected_indices)))]\n",
        "\n",
        "    # Use thread pool for concurrent downloads\n",
        "    with ThreadPoolExecutor(max_workers=5) as executor:\n",
        "        futures = [executor.submit(download_file, report, download_dir) for report in selected_reports]\n",
        "        for future in as_completed(futures):\n",
        "            print(future.result())\n",
        "\n",
        "    print(\"\\n所有选定任务已完成。\")\n",
        "\n",
        "if __name__ == \"__main__\":\n",
        "    main()"
      ],
      "outputs": [
        {
          "output_type": "stream",
          "name": "stdout",
          "text": [
            "请输入需要查询的公司代码 (例如: 000001): 301486\n",
            "请输入查询的开始年份 (例如: 2020): 2023\n",
            "请输入查询的结束年份 (例如: 2024): 2025\n",
            "开始查询 301486 从 2023 年到 2025 年的财报...\n",
            "DEBUG: Requesting reports for stock=301486,gssz0301486, year=2025, keyword='年度报告'\n",
            "DEBUG: Requesting reports for stock=301486,gssz0301486, year=2024, keyword='年度报告'\n",
            "DEBUG: Requesting reports for stock=301486,gssz0301486, year=2023, keyword='年度报告'\n"
          ]
        },
        {
          "output_type": "stream",
          "name": "stderr",
          "text": [
            "查询进度:  33%|███▎      | 1/3 [00:01<00:02,  1.02s/it]"
          ]
        },
        {
          "output_type": "stream",
          "name": "stdout",
          "text": [
            "DEBUG: Received response data for year=2025, keyword='年度报告': {'classifiedAnnouncements': None, 'totalSecurities': 0, 'totalAnnouncement': 0, 'totalRecordNum': 0, 'announcements': None, 'categoryList': None, 'hasMore': False, 'totalpages': 0}\n",
            "DEBUG: Received response data for year=2023, keyword='年度报告': {'classifiedAnnouncements': None, 'totalSecurities': 0, 'totalAnnouncement': 0, 'totalRecordNum': 0, 'announcements': None, 'categoryList': None, 'hasMore': False, 'totalpages': 0}\n"
          ]
        },
        {
          "output_type": "stream",
          "name": "stderr",
          "text": [
            "查询进度: 100%|██████████| 3/3 [00:01<00:00,  1.74it/s]"
          ]
        },
        {
          "output_type": "stream",
          "name": "stdout",
          "text": [
            "DEBUG: Received response data for year=2024, keyword='年度报告': {'classifiedAnnouncements': None, 'totalSecurities': 0, 'totalAnnouncement': 0, 'totalRecordNum': 0, 'announcements': None, 'categoryList': None, 'hasMore': False, 'totalpages': 0}\n",
            "未找到任何相关报告。\n"
          ]
        },
        {
          "output_type": "stream",
          "name": "stderr",
          "text": [
            "\n"
          ]
        }
      ],
      "execution_count": 26,
      "metadata": {
        "colab": {
          "base_uri": "https://localhost:8080/"
        },
        "id": "jhIyFbRwiLdj",
        "outputId": "16229c9d-0a41-4cf3-fc80-f4dc2bff1fa3"
      }
    },
    {
      "cell_type": "code",
      "metadata": {
        "colab": {
          "base_uri": "https://localhost:8080/",
          "height": 180
        },
        "id": "1e5eb475",
        "outputId": "8075ca4c-226b-4856-de2b-1b8e7a5066d6"
      },
      "source": [
        "class Args:\n",
        "    def __init__(self, code, start, end):\n",
        "        self.code = code\n",
        "        self.start = start\n",
        "        self.end = end\n",
        "\n",
        "# Replace with your desired stock code, start year, and end year\n",
        "args = Args(code='000001', start=2020, end=2024)\n",
        "\n",
        "main(args)"
      ],
      "execution_count": 27,
      "outputs": [
        {
          "output_type": "error",
          "ename": "TypeError",
          "evalue": "main() takes 0 positional arguments but 1 was given",
          "traceback": [
            "\u001b[0;31m---------------------------------------------------------------------------\u001b[0m",
            "\u001b[0;31mTypeError\u001b[0m                                 Traceback (most recent call last)",
            "\u001b[0;32m/tmp/ipython-input-27-3932376378.py\u001b[0m in \u001b[0;36m<cell line: 0>\u001b[0;34m()\u001b[0m\n\u001b[1;32m      8\u001b[0m \u001b[0margs\u001b[0m \u001b[0;34m=\u001b[0m \u001b[0mArgs\u001b[0m\u001b[0;34m(\u001b[0m\u001b[0mcode\u001b[0m\u001b[0;34m=\u001b[0m\u001b[0;34m'000001'\u001b[0m\u001b[0;34m,\u001b[0m \u001b[0mstart\u001b[0m\u001b[0;34m=\u001b[0m\u001b[0;36m2020\u001b[0m\u001b[0;34m,\u001b[0m \u001b[0mend\u001b[0m\u001b[0;34m=\u001b[0m\u001b[0;36m2024\u001b[0m\u001b[0;34m)\u001b[0m\u001b[0;34m\u001b[0m\u001b[0;34m\u001b[0m\u001b[0m\n\u001b[1;32m      9\u001b[0m \u001b[0;34m\u001b[0m\u001b[0m\n\u001b[0;32m---> 10\u001b[0;31m \u001b[0mmain\u001b[0m\u001b[0;34m(\u001b[0m\u001b[0margs\u001b[0m\u001b[0;34m)\u001b[0m\u001b[0;34m\u001b[0m\u001b[0;34m\u001b[0m\u001b[0m\n\u001b[0m",
            "\u001b[0;31mTypeError\u001b[0m: main() takes 0 positional arguments but 1 was given"
          ]
        }
      ]
    },
    {
      "cell_type": "code",
      "source": [
        "from google.colab import drive\n",
        "drive.mount('/content/drive')"
      ],
      "metadata": {
        "id": "T14nnElelgxl"
      },
      "execution_count": null,
      "outputs": []
    }
  ],
  "metadata": {
    "colab": {
      "provenance": [],
      "include_colab_link": true
    },
    "kernelspec": {
      "display_name": "Python 3",
      "name": "python3"
    }
  },
  "nbformat": 4,
  "nbformat_minor": 0
}